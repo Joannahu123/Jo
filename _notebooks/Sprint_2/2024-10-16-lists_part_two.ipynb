{
 "cells": [
  {
   "cell_type": "markdown",
   "metadata": {},
   "source": [
    "---\n",
    "layout: post\n",
    "title: 3.10A lists and arrays\n",
    "comments: true\n",
    "---"
   ]
  },
  {
   "cell_type": "code",
   "execution_count": null,
   "metadata": {
    "vscode": {
     "languageId": "javascript"
    }
   },
   "outputs": [],
   "source": [
    "//3.10.1 js popcorn hack 1\n",
    "\n",
    "let aList = [];\n",
    "\n",
    "let itemsToAdd = [\"nora\", \"kushi\", \"maryam\"];\n",
    "\n",
    "// Appendding\n",
    "for (let i = 0; i < itemsToAdd.length; i++) {\n",
    "    aList.push(itemsToAdd[i]);\n",
    "}\n",
    "\n",
    "// Use a for loop to print each item\n",
    "console.log(\"The items in your list are:\");\n",
    "for (let i = 0; i < aList.length; i++) {\n",
    "    console.log(aList[i]);\n",
    "}"
   ]
  },
  {
   "cell_type": "code",
   "execution_count": null,
   "metadata": {
    "vscode": {
     "languageId": "javascript"
    }
   },
   "outputs": [],
   "source": [
    "//3.10.1 exercise: shopping list in js\n",
    "\n",
    "let shoppingList = [];\n",
    "\n",
    "while (true) { //user input w infinite loop until unser quits\n",
    "    let userInput = prompt(\"Enter an item for the shopping list (or type 'q' to quit):\");\n",
    "\n",
    "    // type q to quit\n",
    "    if (userInput.toLowerCase() === 'q') {\n",
    "        break;\n",
    "    }\n",
    "\n",
    "    // Append the item to the array\n",
    "    shoppingList.push(userInput);\n",
    "\n",
    "    // Display the current shopping list\n",
    "    console.log(\"Current shopping list:\", shoppingList);\n",
    "}\n",
    "\n",
    "// Final display: show the entire shopping list\n",
    "console.log(\"Your final shopping list:\");\n",
    "\n",
    "for (let i = 0; i < shoppingList.length; i++) {\n",
    "    console.log(`${i + 1}. ${shoppingList[i]}`);\n",
    "}"
   ]
  },
  {
   "cell_type": "code",
   "execution_count": null,
   "metadata": {
    "vscode": {
     "languageId": "javascript"
    }
   },
   "outputs": [],
   "source": [
    "//3.10.2 js popcorn hack \n",
    "\n",
    "// Initialize an empty array\n",
    "let aList = [];\n",
    "\n",
    "// Start an infinite loop for user input\n",
    "while (true) {\n",
    "    // Prompt the user to enter an item\n",
    "    let userInput = prompt(\"Enter an item for the list (or type 'q' to quit):\");\n",
    "\n",
    "    // If the user types 'q', exit the loop\n",
    "    if (userInput.toLowerCase() === 'q') {\n",
    "        break;\n",
    "    }\n",
    "\n",
    "    // Append the item to the array\n",
    "    aList.push(userInput);\n",
    "}\n",
    "\n",
    "// Display the entire list\n",
    "console.log(\"Your list:\", aList);\n",
    "\n",
    "// Check if the second element exists\n",
    "if (aList.length > 1) {\n",
    "    // Display the second element\n",
    "    console.log(\"Second element in the list is:\", aList[1]);\n",
    "\n",
    "    // Remove the second element using splice\n",
    "    aList.splice(1, 1);\n",
    "\n",
    "    // Display the updated list after deleting the second element\n",
    "    console.log(\"List after removing the second element:\", aList);\n",
    "} else {\n",
    "    console.log(\"There is no second element\");\n",
    "}\n"
   ]
  },
  {
   "cell_type": "code",
   "execution_count": 19,
   "metadata": {},
   "outputs": [
    {
     "name": "stdout",
     "output_type": "stream",
     "text": [
      "original list:  ['noodles', 'cereal', 'bread', 'ice cream', 'chicken']\n",
      "appended list: ['noodles', 'cereal', 'bread', 'ice cream', 'chicken', 'sandwich']\n",
      "length of list: 6\n"
     ]
    }
   ],
   "source": [
    "#3.10.3 python popcorn hack\n",
    "\n",
    "food = [\"noodles\", \"cereal\", \"bread\", \"ice cream\", \"chicken\"]\n",
    "print(\"original list: \", food)\n",
    "\n",
    "#using .append\n",
    "food.append(\"sandwich\")\n",
    "print(\"appended list:\", food)\n",
    "\n",
    "#len\n",
    "print(\"length of list:\", len(food))"
   ]
  },
  {
   "cell_type": "code",
   "execution_count": null,
   "metadata": {
    "vscode": {
     "languageId": "javascript"
    }
   },
   "outputs": [],
   "source": [
    "//3.10.3 popcorn hack in js (bonus)\n",
    "\n",
    "let favFood = [\"noodles\", \"cereal\", \"bread\", \"ice cream\", \"chicken\"];\n",
    "console.log(\"original list:\", favFood);\n",
    "\n",
    "//using push\n",
    "favFood.push(\"sandwich\");\n",
    "console.log(\"using push: \", favFood);\n",
    "\n",
    "// len\n",
    "console.log(\"Total number of items in the list:\", favFood.length);"
   ]
  },
  {
   "cell_type": "code",
   "execution_count": null,
   "metadata": {
    "vscode": {
     "languageId": "javascript"
    }
   },
   "outputs": [],
   "source": [
    "//3.10.4 js popcorn hack\n",
    "\n",
    "let fruits = [\"apple\", \"banana\", \"orange\"];\n",
    "\n",
    "if (fruits.includes(\"banana\")) {\n",
    "    console.log(\"banana is in the list\");\n",
    "} else {\n",
    "    console.log(\"banana is not in the list\");\n",
    "}"
   ]
  },
  {
   "cell_type": "code",
   "execution_count": 23,
   "metadata": {},
   "outputs": [
    {
     "name": "stdout",
     "output_type": "stream",
     "text": [
      "banana is in the list\n"
     ]
    }
   ],
   "source": [
    "#3.10.4 popcorn hack in python\n",
    "\n",
    "fruits = [\"apple\", \"banana\", \"orange\"]\n",
    "check = \"banana\"\n",
    "\n",
    "if check in fruits:\n",
    "    print(f\"{check} is in the list\")\n",
    "else:\n",
    "    print(f\"{check} is not in the list\")"
   ]
  },
  {
   "cell_type": "markdown",
   "metadata": {},
   "source": [
    "3.10.4 homework hack:"
   ]
  },
  {
   "cell_type": "code",
   "execution_count": null,
   "metadata": {},
   "outputs": [],
   "source": [
    "#part 1: in python\n",
    "\n",
    "numbers = [10, 20, 30, 40, 50]\n",
    "print(\"second element: \", numbers[1])\n"
   ]
  },
  {
   "cell_type": "code",
   "execution_count": null,
   "metadata": {
    "vscode": {
     "languageId": "javascript"
    }
   },
   "outputs": [],
   "source": [
    "// part 2: in js\n",
    "\n",
    "let num = [10, 20, 30, 40, 50];\n",
    "console.log(\"second element: \", num[1]);"
   ]
  },
  {
   "cell_type": "code",
   "execution_count": 30,
   "metadata": {},
   "outputs": [
    {
     "name": "stdout",
     "output_type": "stream",
     "text": [
      "\n",
      "To-Do List Menu:\n",
      "1. Add item\n",
      "2. Remove item\n",
      "3. View list\n",
      "4. Quit\n",
      "'wake up' has been added to your to-do list.\n",
      "'eat breakfast' has been added to your to-do list.\n",
      "'go to school' has been added to your to-do list.\n",
      "'eat lunch' has been added to your to-do list.\n",
      "'eat breakfast' has been removed from your to-do list.\n",
      "Your to-do list:\n",
      "1. wake up\n",
      "2. go to school\n",
      "3. eat lunch\n",
      "Goodbye!\n"
     ]
    }
   ],
   "source": [
    "#part 3: python to do list (users can add, remove, view items)\n",
    "\n",
    "todo_list = []\n",
    "\n",
    "# Display menu once\n",
    "def display_menu():\n",
    "    print(\"\\nTo-Do List Menu:\")\n",
    "    print(\"1. Add item\")\n",
    "    print(\"2. Remove item\")\n",
    "    print(\"3. View list\")\n",
    "    print(\"4. Quit\")\n",
    "\n",
    "#Add item\n",
    "def add_item():\n",
    "    item = input(\"Enter an item to add to your to-do list: \")\n",
    "    todo_list.append(item)\n",
    "    print(f\"'{item}' has been added to your to-do list.\")\n",
    "\n",
    "#remove item\n",
    "def remove_item():\n",
    "    item = input(\"Enter the item to remove: \")\n",
    "    if item in todo_list:\n",
    "        todo_list.remove(item)\n",
    "        print(f\"'{item}' has been removed from your to-do list.\")\n",
    "    else:\n",
    "        print(f\"'{item}' is not in the list.\")\n",
    "\n",
    "# View list\n",
    "def view_list():\n",
    "    if not todo_list:\n",
    "        print(\"Your to-do list is empty.\")\n",
    "    else:\n",
    "        print(\"Your to-do list:\")\n",
    "        for i, item in enumerate(todo_list, 1):\n",
    "            print(f\"{i}. {item}\")\n",
    "\n",
    "display_menu()\n",
    "\n",
    "# Keep looping until user quits\n",
    "while True:\n",
    "    choice = input(\"\\nChoose an option (1-4): \")\n",
    "\n",
    "    if choice == '1':\n",
    "        add_item()\n",
    "    elif choice == '2':\n",
    "        remove_item()\n",
    "    elif choice == '3':\n",
    "        view_list()\n",
    "    elif choice == '4':\n",
    "        print(\"Goodbye!\")\n",
    "        break\n",
    "    else:\n",
    "        print(\"Invalid choice, please choose again.\")"
   ]
  },
  {
   "cell_type": "code",
   "execution_count": null,
   "metadata": {
    "vscode": {
     "languageId": "javascript"
    }
   },
   "outputs": [],
   "source": [
    "//part 4: js workout tracker\n",
    "\n",
    "let workoutLog = [];\n",
    "\n",
    "//original workout\n",
    "function logWorkout() {\n",
    "    let type = prompt(\"Workout type:\");\n",
    "    let duration = prompt(\"Duration of workout (min):\");\n",
    "    let calories = prompt(\"Calories burned:\");\n",
    "\n",
    "    // Add to the workout log\n",
    "    workoutLog.push({\n",
    "        type: type,\n",
    "        duration: parseInt(duration),\n",
    "        calories: parseInt(calories)\n",
    "    });\n",
    "\n",
    "    console.log(\"Workout logged successfully!\");\n",
    "}\n",
    "\n",
    "// Function to view all logged workouts\n",
    "function viewWorkouts() {\n",
    "    if (workoutLog.length === 0) {\n",
    "        console.log(\"No workouts logged yet.\");\n",
    "    } else {\n",
    "        console.log(\"Logged Workouts:\");\n",
    "        workoutLog.forEach((workout, index) => {\n",
    "            console.log(`${index + 1}. ${workout.type} - Duration: ${workout.duration} mins, Calories burned: ${workout.calories}`);\n",
    "        });\n",
    "    }\n",
    "}\n",
    "\n",
    "// Function to display the menu\n",
    "function displayMenu() {\n",
    "    console.log(\"\\nWorkout Tracker Menu:\");\n",
    "    console.log(\"1. Log a workout\");\n",
    "    console.log(\"2. View workouts\");\n",
    "    console.log(\"3. Quit\");\n",
    "}\n",
    "\n",
    "// Main program loop\n",
    "while (true) {\n",
    "    displayMenu();\n",
    "    let choice = prompt(\"Choose an option (1-3):\");\n",
    "\n",
    "    if (choice === '1') {\n",
    "        logWorkout();\n",
    "    } else if (choice === '2') {\n",
    "        viewWorkouts();\n",
    "    } else if (choice === '3') {\n",
    "        console.log(\"Goodbye!\");\n",
    "        break;\n",
    "    } else {\n",
    "        console.log(\"Invalid choice, please try again.\");\n",
    "    }\n",
    "}"
   ]
  }
 ],
 "metadata": {
  "kernelspec": {
   "display_name": "Python 3",
   "language": "python",
   "name": "python3"
  },
  "language_info": {
   "codemirror_mode": {
    "name": "ipython",
    "version": 3
   },
   "file_extension": ".py",
   "mimetype": "text/x-python",
   "name": "python",
   "nbconvert_exporter": "python",
   "pygments_lexer": "ipython3",
   "version": "3.10.12"
  }
 },
 "nbformat": 4,
 "nbformat_minor": 2
}
