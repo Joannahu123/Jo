{
 "cells": [
  {
   "cell_type": "markdown",
   "metadata": {},
   "source": [
    "---\n",
    "layout: post\n",
    "title: 3.2 data abstraction\n",
    "comments: true\n",
    "---"
   ]
  },
  {
   "cell_type": "markdown",
   "metadata": {},
   "source": [
    "### data abstrction"
   ]
  },
  {
   "cell_type": "code",
   "execution_count": 6,
   "metadata": {},
   "outputs": [
    {
     "name": "stdout",
     "output_type": "stream",
     "text": [
      "original set: {1, 2, 3, 4, 5}\n",
      "adding 6: {1, 2, 3, 4, 5, 6}\n",
      "remove 2: {1, 3, 4, 5, 6}\n",
      "Union:  {1, 3, 4, 5, 6, 7, 8, 9}\n",
      "clear:  set()\n"
     ]
    }
   ],
   "source": [
    "#3.2 python popcorn hack 1\n",
    "\n",
    "#step 1\n",
    "integers = {1, 2, 3, 4, 5}\n",
    "print(\"original set:\", integers)\n",
    "\n",
    "#step 2\n",
    "integers.add(6)\n",
    "print(\"adding 6:\", integers)\n",
    "\n",
    "#step 3\n",
    "integers.remove(2)\n",
    "print(\"remove 2:\", integers)\n",
    "\n",
    "#step 4\n",
    "integer2 = {7,8,9}\n",
    "union_integers = integers.union(integer2)\n",
    "print(\"Union: \", union_integers)\n",
    "\n",
    "#step 5\n",
    "integers.clear()\n",
    "print(\"clear: \", integers)\n"
   ]
  },
  {
   "cell_type": "code",
   "execution_count": 10,
   "metadata": {},
   "outputs": [
    {
     "name": "stdout",
     "output_type": "stream",
     "text": [
      "learning python is not fun\n",
      "26\n",
      "python\n",
      "LEARNING PYTHON IS NOT FUN\n",
      "learning python is not good\n",
      "reversed with slicing nuf ton si nohtyp gninrael\n"
     ]
    }
   ],
   "source": [
    "#popcorn hack 2\n",
    "\n",
    "#step 1\n",
    "string = \"learning python is not fun\"\n",
    "print(string)\n",
    "\n",
    "#step 2\n",
    "string_length = len(string)\n",
    "print(string_length)\n",
    "\n",
    "#step 3\n",
    "extract_string = string[9:15]\n",
    "print(extract_string)\n",
    "\n",
    "#step 4\n",
    "uppercase_string = string.upper()\n",
    "print(uppercase_string)\n",
    "\n",
    "#step 5\n",
    "replace_string = string.replace (\"fun\",\"good\")\n",
    "print(replace_string)\n",
    "\n",
    "#bonusd\n",
    "reversed_string = string[::-1]\n",
    "print(\"reversed with slicing\", reversed_string)"
   ]
  },
  {
   "cell_type": "code",
   "execution_count": 20,
   "metadata": {},
   "outputs": [
    {
     "name": "stdout",
     "output_type": "stream",
     "text": [
      "[3, 5, 7, 9, 11]\n",
      "third number in the list: 7\n",
      "replace 5 with 6: [3, 6, 7, 9, 11]\n",
      "adding 13: [3, 6, 7, 9, 11, 13]\n",
      "removing 9: [3, 6, 7, 11, 13]\n",
      "sorted in reverse order:  [13, 11, 7, 6, 3]\n"
     ]
    }
   ],
   "source": [
    "#popcorn hack 3\n",
    "\n",
    "#step 1:\n",
    "numbers = [3,5,7,9,11]\n",
    "print(numbers)\n",
    "\n",
    "#step 2:\n",
    "third_number = numbers[2]\n",
    "print(\"third number in the list:\", third_number)\n",
    "\n",
    "#step 3: \n",
    "numbers[1] = 6\n",
    "print(\"replace 5 with 6:\", numbers)\n",
    "\n",
    "#step 4:\n",
    "numbers.append(13)\n",
    "print(\"adding 13:\", numbers)\n",
    "\n",
    "#step 5: \n",
    "numbers.remove(9)\n",
    "print(\"removing 9:\", numbers)\n",
    "\n",
    "#bonus: \n",
    "numbers.sort(reverse=True)\n",
    "print(\"sorted in reverse order: \", numbers)"
   ]
  },
  {
   "cell_type": "code",
   "execution_count": 29,
   "metadata": {},
   "outputs": [
    {
     "name": "stdout",
     "output_type": "stream",
     "text": [
      "original dictionary:  {'name': 'Joanna', 'email': 'csp@gmail.com', 'phone number': '123-456-7890'}\n",
      "My name is: Joanna\n",
      "length of dictionary:  3\n",
      "<class 'dict'>\n"
     ]
    }
   ],
   "source": [
    "#popcorn hack 4\n",
    "\n",
    "#step 1:\n",
    "personal_info = {\n",
    "    \"name\": \"Joanna\",\n",
    "    \"email\": \"csp@gmail.com\",\n",
    "    \"phone number\": \"123-456-7890\",\n",
    "}\n",
    "\n",
    "#step 2:\n",
    "print(\"original dictionary: \", personal_info)\n",
    "\n",
    "#step 3:\n",
    "print(\"My name is:\", personal_info[\"name\"])\n",
    "\n",
    "#step 4:\n",
    "personal_info_length = len(personal_info)\n",
    "print(\"length of dictionary: \", personal_info_length)\n",
    "\n",
    "#step 5: \n",
    "print(type(personal_info))\n"
   ]
  },
  {
   "cell_type": "markdown",
   "metadata": {},
   "source": [
    "3.2 Homework hacks python"
   ]
  },
  {
   "cell_type": "code",
   "execution_count": 43,
   "metadata": {},
   "outputs": [
    {
     "name": "stdout",
     "output_type": "stream",
     "text": [
      "personal info dictionary {'full_name': 'Joanna Hu', 'years': '17', 'location:': 'San Diego', 'favorite_food': 'dumplings'}\n",
      "some of my favorite activies are:  ['eating wingstop', 'roblox', 'sleeping']\n",
      "{'full_name': 'Joanna Hu', 'years': '17', 'location:': 'San Diego', 'favorite_food': 'dumplings', 'activities': ['eating wingstop', 'roblox', 'sleeping']}\n",
      "Is 'roblox' available to do right now? True\n",
      "I have 3 activities.\n",
      "tuple: ('homework', 'coding')\n",
      "set: {'running', 'skipping', 'walking'}\n",
      "new skill:  None\n",
      "The total cost for all activities and skills is: $45\n"
     ]
    }
   ],
   "source": [
    "#part 1: dictionary\n",
    "\n",
    "personal_info2 = {\n",
    "    \"full_name\": \"Joanna Hu\",\n",
    "    \"years\": \"17\",\n",
    "    \"location:\": \"San Diego\",\n",
    "    \"favorite_food\": \"dumplings\",\n",
    "}\n",
    "print(\"personal info dictionary\", personal_info2)\n",
    "\n",
    "#part 2: list\n",
    "activites = [\"eating wingstop\", \"roblox\", \"sleeping\"]\n",
    "print(\"some of my favorite activies are: \", activites)\n",
    "\n",
    "#part 3: dict and list\n",
    "personal_info2[\"activities\"] = activites\n",
    "print(personal_info2)\n",
    "\n",
    "#part 4: bool\n",
    "chosen_activity = \"roblox\"\n",
    "activity_available = True \n",
    "print(f\"Is '{chosen_activity}' available to do right now? {activity_available}\")\n",
    "\n",
    "#part 5: int\n",
    "total_activities = len(activites)\n",
    "print(f\"I have {total_activities} activities.\")\n",
    "\n",
    "#part 6: tuple\n",
    "favorite_activities = (\"homework\", \"coding\")\n",
    "print(\"tuple:\", favorite_activities)\n",
    "\n",
    "#part 7: set\n",
    "skills = {\"walking\", \"running\", \"skipping\"}\n",
    "print(\"set:\", skills)\n",
    "\n",
    "#part 8: nonetype\n",
    "new_skill = None\n",
    "print(\"new skill: \", new_skill)\n",
    "\n",
    "#part 9: float\n",
    "activity_cost = 5\n",
    "skill_cost = 10\n",
    "\n",
    "total_cost = (len(activites) * activity_cost) + (len(skills) * skill_cost)\n",
    "print(f\"The total cost for all activities and skills is: ${total_cost}\")"
   ]
  },
  {
   "cell_type": "markdown",
   "metadata": {},
   "source": [
    "js hacks"
   ]
  },
  {
   "cell_type": "code",
   "execution_count": null,
   "metadata": {
    "vscode": {
     "languageId": "javascript"
    }
   },
   "outputs": [],
   "source": [
    "//js popcorn hack 1\n",
    "\n",
    "const Set1 = new Set([9,8,7]); \n",
    "console.log(\"Set1:\", Set1);\n",
    "\n",
    "const Set2 = new Set([6,5,4]);\n",
    "console.log(\"Set2:\", Set2);\n",
    "\n",
    "Set1.add(7); // Adding number 7 to Set1\n",
    "console.log(\"Set1 after adding a number:\", Set1);\n",
    "\n",
    "//Remove 1st number from Set1\n",
    "const firstElement = Array.from(Set1)[0]; // Get the first element\n",
    "Set1.delete(firstElement); // Remove the first element\n",
    "console.log(\"Set1 after removing the first number:\", Set1);\n",
    "\n",
    "//Union\n",
    "const unionSet = new Set([...Set1, ...Set2]);\n",
    "console.log(\"Union of Set1 and Set2:\", unionSet);"
   ]
  },
  {
   "cell_type": "code",
   "execution_count": null,
   "metadata": {
    "vscode": {
     "languageId": "javascript"
    }
   },
   "outputs": [],
   "source": [
    "//js popcorn hack 2\n",
    "\n",
    "const application = {\n",
    "    name: \"Joanna Hu\", \n",
    "    age: 17,\n",
    "    experiences: [\"education\", \"swim\"],\n",
    "    money: 1000000 \n",
    "};\n",
    "\n",
    "//log dictionary\n",
    "console.log(\"Application:\", application);\n",
    "\n",
    "//log only money property\n",
    "console.log(\"Money:\", application.money);\n"
   ]
  },
  {
   "cell_type": "code",
   "execution_count": null,
   "metadata": {
    "vscode": {
     "languageId": "javascript"
    }
   },
   "outputs": [],
   "source": [
    "// js homework hack\n",
    "\n",
    "\n",
    "function createApplication() {\n",
    "    const name = prompt(\"What is your name?\");\n",
    "    const age = prompt(\"What is your age?\");\n",
    "    const experiences = prompt(\"Please list your experiences, separated with commas\").split(\",\");\n",
    "\n",
    "    //dictionary\n",
    "    const application = {\n",
    "        name: name,\n",
    "        age: age,\n",
    "        experiences: experiences.map(exp => exp.trim()), // Trim whitespace\n",
    "    };\n",
    "\n",
    "    // Log the user's input\n",
    "    console.log(\"Application:\", application);\n",
    "}\n",
    "\n",
    "// Call the function to create the application\n",
    "createApplication();"
   ]
  }
 ],
 "metadata": {
  "kernelspec": {
   "display_name": "Python 3",
   "language": "python",
   "name": "python3"
  },
  "language_info": {
   "codemirror_mode": {
    "name": "ipython",
    "version": 3
   },
   "file_extension": ".py",
   "mimetype": "text/x-python",
   "name": "python",
   "nbconvert_exporter": "python",
   "pygments_lexer": "ipython3",
   "version": "3.10.12"
  }
 },
 "nbformat": 4,
 "nbformat_minor": 2
}
