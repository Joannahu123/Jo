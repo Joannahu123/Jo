{
 "cells": [
  {
   "cell_type": "markdown",
   "id": "e35c1f7d",
   "metadata": {},
   "source": [
    "---\n",
    "layout: post\n",
    "title: Lists and Filtering Algorithms (notebook file)\n",
    "hide: false\n",
    "---"
   ]
  },
  {
   "cell_type": "code",
   "execution_count": 1,
   "id": "8aa7746b",
   "metadata": {},
   "outputs": [
    {
     "name": "stdout",
     "output_type": "stream",
     "text": [
      "List after append: [10, 25, 5, 40, 15, 30]\n",
      "Removed item: 5\n",
      "List after pop: [10, 25, 40, 15, 30]\n",
      "List after sort: [10, 15, 25, 30, 40]\n"
     ]
    }
   ],
   "source": [
    "# Step 1: Creating a list of five items\n",
    "my_list = [10, 25, 5, 40, 15]\n",
    "\n",
    "# Step 2: Using the append() method to add an item at the end of the list\n",
    "my_list.append(30)  # This adds 30 to the end of the list\n",
    "print(f\"List after append: {my_list}\")\n",
    "\n",
    "# Step 3: Using the pop() method to remove and return an item from the list\n",
    "removed_item = my_list.pop(2)  # This removes the item at index 2 (value 5)\n",
    "print(f\"Removed item: {removed_item}\")\n",
    "print(f\"List after pop: {my_list}\")\n",
    "\n",
    "# Step 4: Using the sort() method to sort the list in ascending order\n",
    "my_list.sort()  # Sorts the list in ascending order\n",
    "print(f\"List after sort: {my_list}\")\n"
   ]
  },
  {
   "cell_type": "code",
   "execution_count": 2,
   "id": "19e87b4c",
   "metadata": {},
   "outputs": [
    {
     "name": "stdout",
     "output_type": "stream",
     "text": [
      "10\n",
      "15\n",
      "25\n",
      "30\n",
      "40\n"
     ]
    }
   ],
   "source": [
    "# Step 1: Traversing the list using a for loop\n",
    "for item in my_list:\n",
    "    print(item)  # This will print each item of the list one by one\n"
   ]
  },
  {
   "cell_type": "code",
   "execution_count": 3,
   "id": "578f1d1e",
   "metadata": {},
   "outputs": [
    {
     "name": "stdout",
     "output_type": "stream",
     "text": [
      "Filtered list: [25, 30, 40]\n"
     ]
    }
   ],
   "source": [
    "import pandas as pd\n",
    "\n",
    "# Step 1: Convert the list into a pandas DataFrame (simulating a database-like structure)\n",
    "df = pd.DataFrame({'numbers': my_list})\n",
    "\n",
    "# Step 2: Apply the condition to filter the DataFrame (select numbers greater than 20)\n",
    "filtered_df = df[df['numbers'] > 20]\n",
    "\n",
    "# Step 3: Convert the filtered DataFrame back into a list\n",
    "filtered_list = filtered_df['numbers'].tolist()\n",
    "print(f\"Filtered list: {filtered_list}\")\n"
   ]
  },
  {
   "cell_type": "markdown",
   "id": "4d9b3421",
   "metadata": {},
   "source": [
    "### Final reflection:\n",
    "\n",
    "In two complete sentences, explain when and how filtering algorithms and lists are used in real life.\n",
    "\n",
    "- Filtering algorithms are used in real life when we need to extract specific data from a larger set, such as sorting through customer information to find those who meet certain criteria. Lists are often used to organize and manipulate data efficiently, such as in a shopping cart to store items until the user is ready to make a purchase.\n"
   ]
  }
 ],
 "metadata": {
  "kernelspec": {
   "display_name": "Python 3",
   "language": "python",
   "name": "python3"
  },
  "language_info": {
   "codemirror_mode": {
    "name": "ipython",
    "version": 3
   },
   "file_extension": ".py",
   "mimetype": "text/x-python",
   "name": "python",
   "nbconvert_exporter": "python",
   "pygments_lexer": "ipython3",
   "version": "3.10.12"
  }
 },
 "nbformat": 4,
 "nbformat_minor": 5
}
