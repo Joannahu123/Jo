{
 "cells": [
  {
   "cell_type": "markdown",
   "metadata": {},
   "source": [
    "---\n",
    "layout: post\n",
    "title:  3.3 and 3.5, mathematical expressions and booleans \n",
    "comments: true\n",
    "---"
   ]
  },
  {
   "cell_type": "code",
   "execution_count": 8,
   "metadata": {},
   "outputs": [
    {
     "name": "stdout",
     "output_type": "stream",
     "text": [
      "21\n"
     ]
    }
   ],
   "source": [
    "# 3.3.3 python popcorn hack \n",
    "\n",
    "num = int(input())\n",
    "total_sum = 0\n",
    "for i in range (1, num +1):\n",
    "        total_sum += i\n",
    "\n",
    "print(total_sum)"
   ]
  },
  {
   "cell_type": "code",
   "execution_count": 26,
   "metadata": {},
   "outputs": [
    {
     "name": "stdout",
     "output_type": "stream",
     "text": [
      "The sum of the integers is: 159\n"
     ]
    }
   ],
   "source": [
    "#3.3 python popcorn hack #1\n",
    "\n",
    "#define list of integers\n",
    "numbers = [2, 35, 14, 27, 10, 19, 52]\n",
    "\n",
    "#find sum\n",
    "total_sum = sum(numbers)\n",
    "\n",
    "#print\n",
    "print(\"The sum of the integers is:\", total_sum)\n"
   ]
  },
  {
   "cell_type": "code",
   "execution_count": 4,
   "metadata": {},
   "outputs": [
    {
     "name": "stdout",
     "output_type": "stream",
     "text": [
      "The total cost for 2 bags of popcorn is: $10.00\n"
     ]
    }
   ],
   "source": [
    "#3.3 python popcorn hack #2\n",
    "\n",
    "#price\n",
    "price_per_bag = float(input(\"Enter the price per bag of popcorn: \"))\n",
    "\n",
    "#number of bags\n",
    "number_of_bags = int(input(\"Enter the number of bags you want to buy: \"))\n",
    "\n",
    "#total cost\n",
    "total_cost = price_per_bag * number_of_bags\n",
    "\n",
    "print(f\"The total cost for {number_of_bags} bags of popcorn is: ${total_cost:.2f}\")\n"
   ]
  },
  {
   "cell_type": "code",
   "execution_count": 19,
   "metadata": {},
   "outputs": [
    {
     "name": "stdout",
     "output_type": "stream",
     "text": [
      "Mean: 25.285714285714285\n",
      "Median: 27\n",
      "The Collatz sequence is:\n",
      "74 -> 37 -> 112 -> 56 -> 28 -> 14 -> 7 -> 22 -> 11 -> 34 -> 17 -> 52 -> 26 -> 13 -> 40 -> 20 -> 10 -> 5 -> 16 -> 8 -> 4 -> 2 -> 1\n"
     ]
    }
   ],
   "source": [
    "#3.3 python big hack\n",
    "\n",
    "\n",
    "#part 1\n",
    "function = [39, 18, 41, 27, 4, 17, 31]\n",
    "\n",
    "#mean code\n",
    "mean = sum(function) / len(function) \n",
    "\n",
    "#median code:   \n",
    "inOrder = sorted(function) #sorted function sorts integers from least to greatest\n",
    "length = len(inOrder)\n",
    "\n",
    "if length % 2 == 0: \n",
    "    # \"%\" is a modulo operator, checks if even or odd by dividing by 2 and checking for remainder\n",
    "    median = (inOrder[length // 2 - 1] + inOrder[length // 2]) / 2\n",
    "else: \n",
    "    median = inOrder [length // 2]\n",
    "\n",
    "\n",
    "print(f\"Mean: {mean}\")\n",
    "print(f\"Median: {median}\")\n",
    "\n",
    "\n",
    "\n",
    "\n",
    "#part 2 (collatz problem)\n",
    "    #function starts w var a, lists sequence of numbers in collatz \n",
    "    #start w positive num, if odd: multiply by 3 and add 1, if even: divide by 2\n",
    "    #keep repeating/ iterating process and will always reach 1\n",
    "    #make array to do this and print sequence\n",
    "\n",
    "def collatz_sequence(n):\n",
    "    # Initialize a list to hold the sequence\n",
    "    sequence = [n]\n",
    "\n",
    "    # Continue the process until n becomes 1\n",
    "    while n != 1:\n",
    "        if n % 2 == 0:  # If n is even\n",
    "            n = n // 2\n",
    "        else:  # If n is odd\n",
    "            n = n * 3 + 1\n",
    "        sequence.append(n)  # Append the new value of n to the sequence\n",
    "\n",
    "    return sequence\n",
    "\n",
    "# Get user input\n",
    "try:\n",
    "    user_input = int(input(\"Enter a positive integer: \"))\n",
    "    if user_input <= 0:\n",
    "        raise ValueError(\"The number must be positive.\")\n",
    "except ValueError as e:\n",
    "    print(f\"Invalid input: {e}\")\n",
    "else:\n",
    "    # Calculate the Collatz sequence\n",
    "    result_sequence = collatz_sequence(user_input)\n",
    "\n",
    "    # Display the result\n",
    "    print(\"The Collatz sequence is:\")\n",
    "    print(\" -> \".join(map(str, result_sequence)))\n"
   ]
  },
  {
   "cell_type": "code",
   "execution_count": 1,
   "metadata": {
    "vscode": {
     "languageId": "javascript"
    }
   },
   "outputs": [
    {
     "data": {
      "application/javascript": "\n//3.3.4 js popcorn hack #1\n\nfunction Number32() {\n    let thirtyTwo = (1+2) * 22 - 2 / 2;\n    return thirtyTwo;\n}\n\nconsole.log(getNumber32());\n",
      "text/plain": [
       "<IPython.core.display.Javascript object>"
      ]
     },
     "metadata": {},
     "output_type": "display_data"
    }
   ],
   "source": [
    "%%javascript\n",
    "\n",
    "//3.3.4 js popcorn hack #1\n",
    "\n",
    "function Number32() {\n",
    "    let thirtyTwo = (1+2) * 22 - 2 / 2;\n",
    "    return thirtyTwo;\n",
    "}\n",
    "\n",
    "console.log(getNumber32());\n"
   ]
  },
  {
   "cell_type": "code",
   "execution_count": 2,
   "metadata": {
    "vscode": {
     "languageId": "javascript"
    }
   },
   "outputs": [
    {
     "data": {
      "application/javascript": "\n//3.3 js popcorn hack #2\n\nfunction makeSandwich() {\n    let ingredients = [];\n\n    let ingredient = prompt(\"Enter an ingredient for your sandwich (or type 'done' to finish):\");\n    \n    while (ingredient.toLowerCase() !== 'done') {\n        ingredients.push(ingredient);\n        ingredient = prompt(\"Enter another ingredient (or type 'done' to finish):\");\n    }\n\n    // Combine ingredients\n    let sandwichName = ingredients.join(\" \") + \" sandwich\";\n\n    console.log(`You created a: ${sandwichName}`);\n}\n\n// Call the function to make a sandwich\nmakeSandwich();\n",
      "text/plain": [
       "<IPython.core.display.Javascript object>"
      ]
     },
     "metadata": {},
     "output_type": "display_data"
    }
   ],
   "source": [
    "%%javascript\n",
    "\n",
    "//3.3 js popcorn hack #2\n",
    "\n",
    "function makeSandwich() {\n",
    "    let ingredients = [];\n",
    "\n",
    "    let ingredient = prompt(\"Enter an ingredient for your sandwich (or type 'done' to finish):\");\n",
    "    \n",
    "    while (ingredient.toLowerCase() !== 'done') {\n",
    "        ingredients.push(ingredient);\n",
    "        ingredient = prompt(\"Enter another ingredient (or type 'done' to finish):\");\n",
    "    }\n",
    "\n",
    "    // Combine ingredients\n",
    "    let sandwichName = ingredients.join(\" \") + \" sandwich\";\n",
    "\n",
    "    console.log(`You created a: ${sandwichName}`);\n",
    "}\n",
    "\n",
    "// Call the function to make a sandwich\n",
    "makeSandwich();\n"
   ]
  },
  {
   "cell_type": "code",
   "execution_count": 4,
   "metadata": {
    "vscode": {
     "languageId": "javascript"
    }
   },
   "outputs": [
    {
     "data": {
      "application/javascript": "\n//3.3 js big hack\n\nfunction computeGCDandLCM(a, b) {\n    // Function to compute GCD using the Euclidean algorithm\n    function gcd(x, y) {\n        while (y !== 0) {\n            let temp = y;\n            y = x % y;\n            x = temp;\n        }\n        return x;\n    }\n\n    // Function to compute LCM\n    function lcm(x, y) {\n        return (x * y) / gcd(x, y);\n    }\n\n    // GCD and LCM\n    const greatestCommonDivisor = gcd(a, b);\n    const leastCommonMultiple = lcm(a, b);\n\n    // Return results as an object\n    return {\n        gcd: greatestCommonDivisor,\n        lcm: leastCommonMultiple\n    };\n}\n\nconst a = 12;\nconst b = 18;\nconst result = computeGCDandLCM(a, b);\nconsole.log(result); // { gcd: 6, lcm: 36 }\n",
      "text/plain": [
       "<IPython.core.display.Javascript object>"
      ]
     },
     "metadata": {},
     "output_type": "display_data"
    }
   ],
   "source": [
    "%%javascript\n",
    "\n",
    "//3.3 js big hack\n",
    "\n",
    "function computeGCDandLCM(a, b) {\n",
    "    // Function to compute GCD using the Euclidean algorithm\n",
    "    function gcd(x, y) {\n",
    "        while (y !== 0) {\n",
    "            let temp = y;\n",
    "            y = x % y;\n",
    "            x = temp;\n",
    "        }\n",
    "        return x;\n",
    "    }\n",
    "\n",
    "    // Function to compute LCM\n",
    "    function lcm(x, y) {\n",
    "        return (x * y) / gcd(x, y);\n",
    "    }\n",
    "\n",
    "    // GCD and LCM\n",
    "    const greatestCommonDivisor = gcd(a, b);\n",
    "    const leastCommonMultiple = lcm(a, b);\n",
    "\n",
    "    // Return results as an object\n",
    "    return {\n",
    "        gcd: greatestCommonDivisor,\n",
    "        lcm: leastCommonMultiple\n",
    "    };\n",
    "}\n",
    "\n",
    "const a = 12;\n",
    "const b = 18;\n",
    "const result = computeGCDandLCM(a, b);\n",
    "console.log(result); // { gcd: 6, lcm: 36 }\n"
   ]
  },
  {
   "cell_type": "code",
   "execution_count": 5,
   "metadata": {},
   "outputs": [
    {
     "name": "stdout",
     "output_type": "stream",
     "text": [
      "The is a negative number!\n"
     ]
    }
   ],
   "source": [
    "#3.5.3 python popcorn hack #1\n",
    "\n",
    "def check_number():\n",
    "    try:\n",
    "        number = float(input(\"Please enter a number: \")) #float is number that's not an integer\n",
    "        if number < 0:\n",
    "            print(\"The is a negative number!\")\n",
    "        else:\n",
    "            print(\"The is a non-negative number!\")\n",
    "    except ValueError:\n",
    "        print(\"Invalid input! Please enter a valid number.\")\n",
    "\n",
    "check_number()"
   ]
  },
  {
   "cell_type": "code",
   "execution_count": 6,
   "metadata": {},
   "outputs": [
    {
     "name": "stdout",
     "output_type": "stream",
     "text": [
      "The student did not pass both subjects.\n"
     ]
    }
   ],
   "source": [
    "#3.5.3 python popcorn hack #2\n",
    "\n",
    "def check_scores(score1, score2):\n",
    "    if score1 >= 70 and score2 >= 70:\n",
    "        print(\"The student passed both subjects.\")\n",
    "    else:\n",
    "        print(\"The student did not pass both subjects.\")\n",
    "\n",
    "\n",
    "score1 = float(input(\"Enter the first score: \"))\n",
    "score2 = float(input(\"Enter the second score: \"))\n",
    "\n",
    "check_scores(score1, score2)"
   ]
  },
  {
   "cell_type": "code",
   "execution_count": 7,
   "metadata": {},
   "outputs": [
    {
     "name": "stdout",
     "output_type": "stream",
     "text": [
      "The character 'u' is a vowel\n"
     ]
    }
   ],
   "source": [
    "#3.5.3 python popcorn hack #3\n",
    "\n",
    "def vowel_check (char):\n",
    "    vowels = \"aeiou\"\n",
    "    if char.lower() in vowels: \n",
    "        print(f\"The character '{char}' is a vowel\")\n",
    "    else:\n",
    "        print(f\"The character '{char}' is not a vowel\")\n",
    "\n",
    "char = input(\"Enter a character: \")\n",
    "\n",
    "if len(char) == 1:\n",
    "    vowel_check(char)\n",
    "else: \n",
    "    print(\"Please enter a single character.\")\n"
   ]
  },
  {
   "cell_type": "code",
   "execution_count": 8,
   "metadata": {
    "vscode": {
     "languageId": "javascript"
    }
   },
   "outputs": [
    {
     "data": {
      "application/javascript": "\n//3.5.4 js popcorn hack \n\nfunction evenOrOdd(number) {\n    if (number % 2 === 0) {\n      return `${number} is even.`;\n    } else {\n      return `${number} is odd.`;\n    }\n  }\n  \n  console.log(evenOrOdd(4));  \n  console.log(evenOrOdd(7));  \n",
      "text/plain": [
       "<IPython.core.display.Javascript object>"
      ]
     },
     "metadata": {},
     "output_type": "display_data"
    }
   ],
   "source": [
    "%%javascript\n",
    "\n",
    "//3.5.4 js popcorn hack \n",
    "\n",
    "function evenOrOdd(number) {\n",
    "    if (number % 2 === 0) {\n",
    "      return `${number} is even.`;\n",
    "    } else {\n",
    "      return `${number} is odd.`;\n",
    "    }\n",
    "  }\n",
    "  \n",
    "  console.log(evenOrOdd(4));  \n",
    "  console.log(evenOrOdd(7));  "
   ]
  },
  {
   "cell_type": "code",
   "execution_count": 9,
   "metadata": {
    "vscode": {
     "languageId": "javascript"
    }
   },
   "outputs": [
    {
     "data": {
      "application/javascript": "\n//3.5.4 js big hack (i did password creator hack)\n\n\nfunction checkPassword(password) {\n    const minLength = 10;\n    \n    if (!(password.length >= minLength &&\n          /[A-Z]/.test(password) &&\n          /[a-z]/.test(password) &&\n          /\\d/.test(password) &&\n          !/\\s/.test(password))) {\n            \n      return \"Password invalid. Must have 10 characters, at least one number, at least one uppercase, and no spaces!\";\n    } else {\n      return \"Password is secure and set!\";\n    }\n  }\n  \n  const userPassword = prompt(\"Enter your password:\");\n  const result = checkPassword(userPassword);\n  alert(result);  \n",
      "text/plain": [
       "<IPython.core.display.Javascript object>"
      ]
     },
     "metadata": {},
     "output_type": "display_data"
    }
   ],
   "source": [
    "%%javascript\n",
    "\n",
    "//3.5.4 js big hack (i did password creator hack)\n",
    "\n",
    "\n",
    "function checkPassword(password) {\n",
    "    const minLength = 10;\n",
    "    \n",
    "    if (!(password.length >= minLength &&\n",
    "          /[A-Z]/.test(password) &&\n",
    "          /[a-z]/.test(password) &&\n",
    "          /\\d/.test(password) &&\n",
    "          !/\\s/.test(password))) {\n",
    "            \n",
    "      return \"Password invalid. Must have 10 characters, at least one number, at least one uppercase, and no spaces!\";\n",
    "    } else {\n",
    "      return \"Password is secure and set!\";\n",
    "    }\n",
    "  }\n",
    "  \n",
    "  const userPassword = prompt(\"Enter your password:\");\n",
    "  const result = checkPassword(userPassword);\n",
    "  alert(result);  "
   ]
  },
  {
   "cell_type": "code",
   "execution_count": 24,
   "metadata": {},
   "outputs": [
    {
     "name": "stdout",
     "output_type": "stream",
     "text": [
      "Welcome to the De Morgan's Law Game!\n",
      "\n",
      "Level 1: Solve the puzzle!\n",
      "Solve: A: is the sky is light blue or B: dark blue?\n",
      "Correct!\n",
      "\n",
      "Level 2: Solve the puzzle!\n",
      "Solve: Is homecoming on A: Octobor 12 or B: October 13?\n",
      "Incorrect. The correct answer is: A\n",
      "\n",
      "Level 3: Solve the puzzle!\n",
      "Solve: Does the AP Course Mr. Liao teaches A: AP physics E&M or B: AP physics C: Mechanics?\n",
      "Correct!\n",
      "\n",
      "You've reached the end of the game! See you again\n"
     ]
    }
   ],
   "source": [
    "#3.5.3 python main hack\n",
    "\n",
    "def play_game():\n",
    "    print(\"Welcome to the Game!\")\n",
    "    \n",
    "    # Define the levels with puzzles and correct answers\n",
    "    levels = [\n",
    "        {\n",
    "            \"puzzle\": \"A: is the sky is light blue or B: dark blue?\",\n",
    "            \"correct_answer\": \"A\",\n",
    "        },\n",
    "        {\n",
    "            \"puzzle\": \"Is homecoming on A: Octobor 12 or B: October 13?\",\n",
    "            \"correct_answer\": \"A\",\n",
    "        },\n",
    "        {\n",
    "            \"puzzle\": \"Does the AP Course Mr. Liao teaches A: AP physics E&M or B: AP physics C: Mechanics?\",\n",
    "            \"correct_answer\": \"B\",\n",
    "        },\n",
    "    ]\n",
    "\n",
    "    # Loop through each level\n",
    "    for level in levels:\n",
    "        print(f\"\\nLevel {levels.index(level) + 1}: Solve the puzzle!\")\n",
    "        print(f\"Solve: {level['puzzle']}\")\n",
    "\n",
    "        while True:\n",
    "            player_answer = input(\"Your Answer (e.g., 'A' or 'B'): \").strip()\n",
    "\n",
    "            # First, check if input is valid (either 'A' or 'B')\n",
    "            if player_answer not in [\"A\", \"B\"]:\n",
    "                print(\"Invalid input, please try again.\")\n",
    "                continue  # Prompt the player to try again\n",
    "\n",
    "            # Check if the player's answer is correct for this level\n",
    "            if player_answer == level[\"correct_answer\"]:\n",
    "                print(\"Correct!\")\n",
    "                break  # Move to the next level\n",
    "            else:\n",
    "                print(\"Incorrect. The correct answer is:\", level['correct_answer'])\n",
    "                break  # Move to the next level\n",
    "\n",
    "    else:\n",
    "        print(\"\\nYou've reached the end of the game! See you again\")\n",
    "\n",
    "if __name__ == \"__main__\":\n",
    "    play_game()\n",
    "\n"
   ]
  },
  {
   "cell_type": "code",
   "execution_count": 3,
   "metadata": {},
   "outputs": [
    {
     "name": "stdout",
     "output_type": "stream",
     "text": [
      "\n",
      "Original String:\n",
      "hi this is a sample test and seeing if it works 123 ***\n",
      "\n",
      "Total characters (including spaces): 55\n",
      "\n",
      "Longest word: 'sample' with 6 characters\n",
      "\n",
      "Reversed String:\n",
      "*** 321 skrow ti fi gniees dna tset elpmas a si siht ih\n",
      "\n",
      "Middle character (excluding spaces and special characters): 'n'\n",
      "\n",
      "Middle word: 'and'\n"
     ]
    }
   ],
   "source": [
    "user_input = input(\"Enter multiple sentences or words: \")\n",
    "\n",
    "# Step 2: Display original string\n",
    "print(\"\\nOriginal String:\")\n",
    "print(user_input)\n",
    "\n",
    "# Step 3: Count total characters (including spaces)\n",
    "total_characters = len(user_input)\n",
    "print(f\"\\nTotal characters (including spaces): {total_characters}\")\n",
    "\n",
    "# Step 4: Find the longest word and its character length\n",
    "words = user_input.split()  # Split the input into words\n",
    "longest_word = max(words, key=len)\n",
    "print(f\"\\nLongest word: '{longest_word}' with {len(longest_word)} characters\")\n",
    "\n",
    "# Step 5: Display the string reversed\n",
    "reversed_string = user_input[::-1]\n",
    "print(\"\\nReversed String:\")\n",
    "print(reversed_string)\n",
    "\n",
    "# Step 6: Find the middle word/character (excluding spaces and special characters)\n",
    "import re\n",
    "\n",
    "# Remove spaces and special characters\n",
    "cleaned_string = re.sub(r'[^A-Za-z0-9]+', '', user_input)\n",
    "total_clean_characters = len(cleaned_string)\n",
    "\n",
    "# Find the middle character\n",
    "middle_index = total_clean_characters // 2\n",
    "middle_character = cleaned_string[middle_index]\n",
    "\n",
    "print(f\"\\nMiddle character (excluding spaces and special characters): '{middle_character}'\")\n",
    "\n",
    "# Step 7: Find the middle word\n",
    "if len(words) % 2 == 0:\n",
    "    middle_word = words[len(words) // 2 - 1]\n",
    "else:\n",
    "    middle_word = words[len(words) // 2]\n",
    "\n",
    "print(f\"\\nMiddle word: '{middle_word}'\")"
   ]
  }
 ],
 "metadata": {
  "kernelspec": {
   "display_name": "Python 3",
   "language": "python",
   "name": "python3"
  },
  "language_info": {
   "codemirror_mode": {
    "name": "ipython",
    "version": 3
   },
   "file_extension": ".py",
   "mimetype": "text/x-python",
   "name": "python",
   "nbconvert_exporter": "python",
   "pygments_lexer": "ipython3",
   "version": "3.10.12"
  }
 },
 "nbformat": 4,
 "nbformat_minor": 2
}
