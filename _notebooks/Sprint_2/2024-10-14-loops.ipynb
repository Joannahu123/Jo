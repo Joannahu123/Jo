{
 "cells": [
  {
   "cell_type": "markdown",
   "metadata": {},
   "source": [
    "---\n",
    "layout: post\n",
    "title: 3.8 hacks\n",
    "comments: true\n",
    "---"
   ]
  },
  {
   "cell_type": "code",
   "execution_count": 15,
   "metadata": {},
   "outputs": [
    {
     "name": "stdout",
     "output_type": "stream",
     "text": [
      "Hello\n",
      "Hello\n",
      "Hello\n",
      "Hello\n",
      "Hello\n"
     ]
    }
   ],
   "source": [
    "#3.8.1 popcorn hack 1\n",
    "\n",
    "counter = 1 #making variable start counting at 1\n",
    "while counter <= 5: #while loop up until it repeats 5 times\n",
    "    print(\"Hello\") #print hello in terminal\n",
    "    counter += 1 #add one after each run"
   ]
  },
  {
   "cell_type": "code",
   "execution_count": 33,
   "metadata": {},
   "outputs": [
    {
     "name": "stdout",
     "output_type": "stream",
     "text": [
      "My name\n",
      "  Joanna\n",
      "  Youfang\n",
      "  Youfang\n",
      "   Hu\n",
      "   Hu\n",
      "   Hu\n",
      "My name\n",
      "  Joanna\n",
      "  Youfang\n",
      "  Youfang\n",
      "   Hu\n",
      "   Hu\n",
      "   Hu\n",
      "My name\n",
      "  Joanna\n",
      "  Youfang\n",
      "  Youfang\n",
      "   Hu\n",
      "   Hu\n",
      "   Hu\n",
      "My name\n",
      "  Joanna\n",
      "  Youfang\n",
      "  Youfang\n",
      "   Hu\n",
      "   Hu\n",
      "   Hu\n"
     ]
    }
   ],
   "source": [
    "#3.8.2 popcorn hack 2\n",
    "\n",
    "outer_counter = 0 #start counting at 0, different variable for each part of my name\n",
    "name = 0\n",
    "middle_name = 0\n",
    "last_name = 0\n",
    "\n",
    "while outer_counter < 4: #repeat 4 times\n",
    "    print(\"My name\")\n",
    "    \n",
    "    name = 0 #reset counting to 0\n",
    "    while name < 1: #repeat once\n",
    "        print(\"  Joanna\")\n",
    "        name += 1 \n",
    "\n",
    "    middle_name = 0 #reset to 0\n",
    "    while middle_name < 2: #repeat twice\n",
    "            print(\"  Youfang\")\n",
    "            middle_name += 1\n",
    "    \n",
    "    last_name = 0 #reset to 0\n",
    "    while last_name < 3: #repeat 3 times\n",
    "            print(\"   Hu\")\n",
    "            last_name += 1\n",
    "\n",
    "    outer_counter += 1"
   ]
  },
  {
   "cell_type": "code",
   "execution_count": 35,
   "metadata": {},
   "outputs": [
    {
     "name": "stdout",
     "output_type": "stream",
     "text": [
      "J\n",
      "o\n",
      "a\n",
      "n\n",
      "n\n",
      "a\n"
     ]
    }
   ],
   "source": [
    "#3.8.3 popcorn hack 3\n",
    "\n",
    "name = \"Joanna\" #variable, name in string\n",
    "\n",
    "for letter in name: #for loop, letter is temp var to iterate through\n",
    "    print(letter)"
   ]
  },
  {
   "cell_type": "code",
   "execution_count": 42,
   "metadata": {},
   "outputs": [
    {
     "name": "stdout",
     "output_type": "stream",
     "text": [
      "dict_items([('apples', 28), ('lemons', 34), ('grapes', 14), ('kiwis', 52)])\n",
      "Joanna bought 28 apples\n",
      "Joanna bought 34 lemons\n",
      "Joanna bought 14 grapes\n",
      "Joanna bought 52 kiwis\n"
     ]
    }
   ],
   "source": [
    "#3.8.4  popcorn hack 4\n",
    "\n",
    "fruit = { #dictionary\n",
    "    \"apples\": 28,\n",
    "    \"lemons\": 34,\n",
    "    \"grapes\": 14,\n",
    "    \"kiwis\": 52, \n",
    "}\n",
    "\n",
    "print(fruit.items()) #print everything in dictionary \n",
    "\n",
    "for fruit, number in fruit.items(): #iterate them with for loop\n",
    "    print(f\"Joanna bought {number} {fruit}\") "
   ]
  },
  {
   "cell_type": "code",
   "execution_count": 50,
   "metadata": {},
   "outputs": [
    {
     "name": "stdout",
     "output_type": "stream",
     "text": [
      "Incorrect, try again!\n",
      "Incorrect, try again!\n",
      "Correct! you may enter the secret chamber\n"
     ]
    }
   ],
   "source": [
    "#3.8.5 big hack 1 while loops\n",
    "\n",
    "#Create a python script that asks a user for a password in the terminal\n",
    "# if the password is correct, it prints out that the password is correct.\n",
    "    #If the password is incorrect it asks for the password again.\n",
    "\n",
    "\n",
    "\n",
    "password = \"supersecretstuff\" #set variable to coreect password\n",
    "\n",
    "# while loop that repeats until correct password is entered\n",
    "while True:\n",
    "    user_input = input(\"What is the password? \") #user input\n",
    "    \n",
    "    # Check if the entered password is correct\n",
    "    if user_input == password: #if else statement check if correct password\n",
    "        print(\"Correct! you may enter the secret chamber\")\n",
    "        break  # Exit the loop if the password is correct\n",
    "    else: #else (if wrong) prompt user to try again\n",
    "        print(\"Incorrect, try again!\") \n",
    "\n"
   ]
  },
  {
   "cell_type": "code",
   "execution_count": 51,
   "metadata": {},
   "outputs": [
    {
     "name": "stdout",
     "output_type": "stream",
     "text": [
      "j\n",
      "o\n",
      "a\n",
      "n\n",
      "n\n",
      "a\n"
     ]
    }
   ],
   "source": [
    "#3.8.5 homework hack 2: for loops\n",
    "    #create a python script that asks for a user's name\n",
    "    #Then iterate through the name and print it out letter by letter through the terminal\n",
    "\n",
    "user_input = input(\"Enter your name: \") #get user input\n",
    "\n",
    "\n",
    "for letter in user_input: #for loop, letter is temp var to iterate through\n",
    "    print(letter)\n"
   ]
  },
  {
   "cell_type": "code",
   "execution_count": 62,
   "metadata": {},
   "outputs": [
    {
     "name": "stdout",
     "output_type": "stream",
     "text": [
      "banana\n",
      "apple\n",
      "kiwi\n",
      "grapes\n",
      "dragonfruit\n",
      "orange\n",
      "honeydew\n",
      "mango\n"
     ]
    }
   ],
   "source": [
    "#3.8.5 homework hack 3: for loops with lists\n",
    "    #Create a python script that has a list of at least 7 different fruits\n",
    "    #then create a for loop that iterates through that list and prints out each fruit seperate to the terminal\n",
    "\n",
    "fruits = [\"banana\", \"apple\", \"kiwi\", \"grapes\", \"dragonfruit\", \"orange\", \"honeydew\", \"mango\"] \n",
    "\n",
    "for fruit in fruits: \n",
    "    print(fruit)"
   ]
  }
 ],
 "metadata": {
  "kernelspec": {
   "display_name": "Python 3",
   "language": "python",
   "name": "python3"
  },
  "language_info": {
   "codemirror_mode": {
    "name": "ipython",
    "version": 3
   },
   "file_extension": ".py",
   "mimetype": "text/x-python",
   "name": "python",
   "nbconvert_exporter": "python",
   "pygments_lexer": "ipython3",
   "version": "3.10.12"
  }
 },
 "nbformat": 4,
 "nbformat_minor": 2
}
