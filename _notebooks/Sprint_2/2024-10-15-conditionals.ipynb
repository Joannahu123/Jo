{
 "cells": [
  {
   "cell_type": "markdown",
   "metadata": {},
   "source": [
    "---\n",
    "layout: post\n",
    "title: 3.6 and 3.7\n",
    "comments: true\n",
    "---"
   ]
  },
  {
   "cell_type": "markdown",
   "metadata": {},
   "source": [
    "### conditionals "
   ]
  },
  {
   "cell_type": "code",
   "execution_count": 3,
   "metadata": {},
   "outputs": [
    {
     "name": "stdout",
     "output_type": "stream",
     "text": [
      "it's a warm day\n"
     ]
    }
   ],
   "source": [
    "#3.6.1 python popcorn hack 1\n",
    "\n",
    "\n",
    "temperature = 75  # initial variable at 50\n",
    "\n",
    "#hot day if greater than equal to 80\n",
    "if temperature >= 80:\n",
    "    print(\"It's a hot day\")\n",
    "#addition to original code: else if --> check for warm day if greater than equal to 60 degrees\n",
    "elif temperature >= 60: \n",
    "        print(\"it's a warm day\")\n",
    "#if if condition not met, it is a cold day\n",
    "else:\n",
    "    print(\"It's a cold day\")"
   ]
  },
  {
   "cell_type": "code",
   "execution_count": null,
   "metadata": {
    "vscode": {
     "languageId": "javascript"
    }
   },
   "outputs": [],
   "source": [
    "%% js \n",
    "\n",
    "//3.6.2 js popcorn hack\n",
    "\n",
    "let score = 55; //testing to see if 85 is a passing score\n",
    "\n",
    "if (score >= 60) { //if score greater than equal 60, print \"you passed\"\n",
    "    console.log(\"You passed!\");\n",
    "}\n",
    "\n",
    "else { //if above condition not met, then score is less than 60 and print failed message\n",
    "    console.log(\"you failed dummy go study\");\n",
    "}\n"
   ]
  },
  {
   "cell_type": "markdown",
   "metadata": {},
   "source": [
    "3.6.3 python homework hacks:\n",
    "<br>"
   ]
  },
  {
   "cell_type": "code",
   "execution_count": 5,
   "metadata": {},
   "outputs": [
    {
     "name": "stdout",
     "output_type": "stream",
     "text": [
      "even\n",
      "odd\n",
      "even\n",
      "even\n",
      "odd\n"
     ]
    }
   ],
   "source": [
    "#hack 1: odd or even checker\n",
    "def check_odd_number(number):\n",
    "    if number % 2 == 0: #checks if remainder after divinding by 2 is 0 or not\n",
    "        return \"even\" #if no remainder, is divisibile by 2 and therefore even\n",
    "    else:\n",
    "        return \"odd\" #if there is remainder, is odd\n",
    "    \n",
    "#testing with different numbers\n",
    "print(check_odd_number(12))\n",
    "print(check_odd_number(35))\n",
    "print(check_odd_number(8))\n",
    "print(check_odd_number(92))\n",
    "print(check_odd_number(47))"
   ]
  },
  {
   "cell_type": "code",
   "execution_count": 10,
   "metadata": {},
   "outputs": [
    {
     "name": "stdout",
     "output_type": "stream",
     "text": [
      "not a leap year\n",
      "leap year\n",
      "leap year\n",
      "not a leap year\n",
      "not a leap year\n"
     ]
    }
   ],
   "source": [
    "#hack 2: leap year checker\n",
    "def is_leap_year(year):\n",
    "    #if divisibile by 4 and not by 100 or divisible by 400, return is \"leap year\"\n",
    "    if (year % 4 == 0 and year % 100 != 0) or (year % 400 == 0):\n",
    "        return \"leap year\"\n",
    "    else:\n",
    "        return \"not a leap year\"\n",
    "    \n",
    "print(is_leap_year(1963))\n",
    "print(is_leap_year(2020))\n",
    "print(is_leap_year(2012))\n",
    "print(is_leap_year(1800))\n",
    "print(is_leap_year(1849))"
   ]
  },
  {
   "cell_type": "code",
   "execution_count": 15,
   "metadata": {},
   "outputs": [
    {
     "name": "stdout",
     "output_type": "stream",
     "text": [
      "cold\n",
      "warm\n",
      "hot\n"
     ]
    }
   ],
   "source": [
    "#hack 3: tempearture range checker\n",
    "def temperature_range(temperature):\n",
    "    if temperature < 60:\n",
    "        return \"cold\"\n",
    "    elif 60 <= temperature <= 80:\n",
    "        return \"warm\"\n",
    "    else:\n",
    "        return \"hot\"\n",
    "\n",
    "print(temperature_range(55))\n",
    "print(temperature_range(70))\n",
    "print(temperature_range(90))"
   ]
  },
  {
   "cell_type": "markdown",
   "metadata": {},
   "source": [
    "3.6.4 js homework hack"
   ]
  },
  {
   "cell_type": "code",
   "execution_count": null,
   "metadata": {
    "vscode": {
     "languageId": "javascript"
    }
   },
   "outputs": [],
   "source": [
    "// hack 1: check voting eligibility\n",
    "function checkVotingEligibility(age){\n",
    "    if (age >= 18){ //check if age greaterthan equal to 18\n",
    "        return \"you are eligible to vote!\";\n",
    "    }\n",
    "    else{\n",
    "        return \"you are not eligible to vote yet\";\n",
    "    }\n",
    "}\n",
    "\n",
    "console.log(checkVotingEligibility(16));\n",
    "console.log(checkVotingEligibility(18));\n",
    "console.log(checkVotingEligibility(54));"
   ]
  },
  {
   "cell_type": "code",
   "execution_count": null,
   "metadata": {
    "vscode": {
     "languageId": "javascript"
    }
   },
   "outputs": [],
   "source": [
    "//hack 2: grade calculator\n",
    "function getGrade(score){\n",
    "    if (score >= 90){ //score greaterthan equal to 90, get A\n",
    "        return \"Grade: A\";\n",
    "    }\n",
    "    else if ( score >= 80 ){ //score between 80-89, get B\n",
    "        return \"Grade: B\";\n",
    "    }\n",
    "    else if ( score >= 70 ){ //score between 70-79, get C\n",
    "        return \"Grade: C\";\n",
    "    }\n",
    "    else{ //score under 69 get F\n",
    "        return \"Grade: F\";\n",
    "    }\n",
    "}\n",
    "\n",
    "console.log(getGrade(95));\n",
    "console.log(getGrade(85));\n",
    "console.log(getGrade(75));\n",
    "console.log(getGrade(55));"
   ]
  },
  {
   "cell_type": "code",
   "execution_count": null,
   "metadata": {
    "vscode": {
     "languageId": "javascript"
    }
   },
   "outputs": [],
   "source": [
    "//hack 3: temperature converter\n",
    "function convertTemperature(value, scale){\n",
    "    if (scale === \"C\"){ //check for celsius, return with Fahrenheit conversion\n",
    "        return (value * 9/5) +32 + \"°F\";\n",
    "    }\n",
    "    else if (scale === \"F\"){ //check for Fahrenheit, return with celcius conversion\n",
    "        return (value -32) * 5/9 + \"°C\";\n",
    "    }\n",
    "    else{\n",
    "        return \"error, neither fahrenheit nor celsius\";\n",
    "    }\n",
    "}\n",
    "\n",
    "console.log(convertTemperature(85, \"F\"));\n",
    "console.log(convertTemperature(32, \"C\"));\n",
    "console.log(convertTemperature(78, \"N\"));\n"
   ]
  },
  {
   "cell_type": "markdown",
   "metadata": {},
   "source": [
    "<br>\n",
    "3.7.1: nested conditionals\n",
    "<br>"
   ]
  },
  {
   "cell_type": "code",
   "execution_count": 17,
   "metadata": {},
   "outputs": [
    {
     "name": "stdout",
     "output_type": "stream",
     "text": [
      "The weather is sunny\n",
      "Your transportation is available\n",
      "Your boots are not present\n",
      "You need to find your boots first.\n",
      "you should prepare more\n"
     ]
    }
   ],
   "source": [
    "#3.7.1 python popcorn hack\n",
    "\n",
    "\n",
    "weather = \"sunny\"\n",
    "transportation = \"available\"\n",
    "boots = \"not present\"\n",
    "location = \"far away\"\n",
    "\n",
    "print(\"The weather is \" + weather)\n",
    "print(\"Your transportation is \" + transportation)\n",
    "print(\"Your boots are \" + boots)\n",
    "\n",
    "\n",
    "if weather == \"sunny\": #checking good weather, since it is move onto next condition\n",
    "    if transportation == \"available\": #check transportation, since available, move to boots \n",
    "        if boots == \"present\": #boots not present, print else statement\n",
    "            print(\"You are ready to go hiking!\")\n",
    "        else:\n",
    "            print(\"You need to find your boots first.\")\n",
    "        # my own conditional (location)\n",
    "        if location == \"not far away\": #check location distance, since it is far away print else statement\n",
    "            print(\"you are ready to go\")\n",
    "        else: \n",
    "            print(\"you should prepare more\")\n",
    "    else:\n",
    "        print(\"You need to arrange transportation.\")\n",
    "else:\n",
    "    print(\"It's not good weather for hiking.\")"
   ]
  },
  {
   "cell_type": "code",
   "execution_count": null,
   "metadata": {
    "vscode": {
     "languageId": "javascript"
    }
   },
   "outputs": [],
   "source": [
    "// 3.7.2 js popcorn hack\n",
    "\n",
    "let weather = \"sunny\";\n",
    "let transportation = \"available\";\n",
    "let boots = \"not present\";\n",
    "let distance = \"very far away\";\n",
    "\n",
    "console.log(\"The weather is \" + weather);\n",
    "console.log(\"Your transportation is \" + transportation);\n",
    "console.log(\"Your boots are \" + boots);\n",
    "console.log(\"The distance is \" + distance);\n",
    "\n",
    "if (weather === \"sunny\") { //see python for explination comments, they are same just different syntax for js\n",
    "    if (transportation === \"available\") {\n",
    "        if (boots === \"present\") {\n",
    "            console.log(\"You are ready to go hiking!\");\n",
    "        } else {\n",
    "            console.log(\"You need to find your boots first.\");\n",
    "        }\n",
    "        //the condition I added: distance \n",
    "        if (distance === \"not very far away\") {\n",
    "            console.log(\"you are ready for hiking\");\n",
    "        } else {\n",
    "            console.log (\"you need to prepare more because it's far away\")\n",
    "        }\n",
    "    } else {\n",
    "        console.log(\"You need to arrange transportation.\");\n",
    "    }\n",
    "} else {\n",
    "    console.log(\"It's not good weather for hiking.\");\n",
    "}"
   ]
  },
  {
   "cell_type": "markdown",
   "metadata": {},
   "source": [
    "3.7.3 and homework hacks"
   ]
  },
  {
   "cell_type": "code",
   "execution_count": null,
   "metadata": {},
   "outputs": [],
   "source": [
    "#hack 1:Write Python pseudocode to decide whether or not to go to the beach\n",
    "\n",
    "BEGIN\n",
    "\n",
    "    // Step 1: Define variables for conditions\n",
    "    SET weather = \"sunny\"         // Example values: \"sunny\", \"cloudy\", \"rainy\"\n",
    "    SET has_sunscreen = TRUE      // Example values: TRUE or FALSE\n",
    "    SET enough_snacks = TRUE      // Example values: TRUE or FALSE\n",
    "\n",
    "    // Step 2: Check conditions for going to the beach\n",
    "    IF weather IS NOT \"sunny\" THEN\n",
    "        PRINT \"It's not a good day for the beach.\"\n",
    "    ELSE\n",
    "        IF NOT has_sunscreen THEN\n",
    "            PRINT \"You should buy sunscreen.\"\n",
    "        ELSE\n",
    "            IF NOT enough_snacks THEN\n",
    "                PRINT \"You should get snacks first.\"\n",
    "            ELSE\n",
    "                PRINT \"You are ready for the beach!\"\n",
    "            END IF\n",
    "        END IF\n",
    "    END IF\n",
    "\n",
    "END\n"
   ]
  },
  {
   "cell_type": "code",
   "execution_count": 27,
   "metadata": {},
   "outputs": [
    {
     "name": "stdout",
     "output_type": "stream",
     "text": [
      "Your too young, wait until your 18\n",
      "your house is too small, focus on getting rich first\n",
      "you need to manage your time better to properly take care of the pet\n",
      "You are eligible to adopt the pet!\n"
     ]
    }
   ],
   "source": [
    "#hack 2: Write a Python code that checks if you can adopt a pet\n",
    "\n",
    "def adopt_pet_eligibility(age, space, availbility): \n",
    "    if age < 18: #check age, if younger than 18, print too young. If old enough, move to next condition\n",
    "        print(\"Your too young, wait until your 18\")\n",
    "    elif space <= 50: #if house too small, print message, if big enough move to next condition\n",
    "        print (\"your house is too small, focus on getting rich first\")\n",
    "    elif not availbility: #if avalibale, can adopt, if not print message \n",
    "        print(\"you need to manage your time better to properly take care of the pet\")\n",
    "    else: \n",
    "        print(\"You are eligible to adopt the pet!\")\n",
    "\n",
    "adopt_pet_eligibility(15, 50, True)\n",
    "adopt_pet_eligibility(20, 10, True)\n",
    "adopt_pet_eligibility(28, 70, False)\n",
    "adopt_pet_eligibility(32, 70, True)"
   ]
  },
  {
   "cell_type": "code",
   "execution_count": 28,
   "metadata": {},
   "outputs": [
    {
     "name": "stdout",
     "output_type": "stream",
     "text": [
      "not right time for the marathon\n",
      "you need to buy shoes first\n",
      "you need to practice more\n",
      "you are ready for the marathon!\n"
     ]
    }
   ],
   "source": [
    "#hack 3: Write Python code to determine whether or not to participate in a marathon.\n",
    "\n",
    "def marathon_participation (weather, shoes, practice):\n",
    "    if weather.lower() != \"clear\":\n",
    "        print(\"not right time for the marathon\")\n",
    "    elif not shoes:\n",
    "        print(\"you need to buy shoes first\")\n",
    "    elif practice < 10:\n",
    "        print(\"you need to practice more\")\n",
    "    else: \n",
    "        print(\"you are ready for the marathon!\")\n",
    "\n",
    "marathon_participation (\"rainy\", True, 11)\n",
    "marathon_participation (\"clear\", False, 11)\n",
    "marathon_participation (\"clear\", True, 8)\n",
    "marathon_participation (\"clear\", True, 12)"
   ]
  },
  {
   "cell_type": "markdown",
   "metadata": {},
   "source": [
    "3.7.4 js homework hacks "
   ]
  },
  {
   "cell_type": "code",
   "execution_count": null,
   "metadata": {
    "vscode": {
     "languageId": "javascript"
    }
   },
   "outputs": [],
   "source": [
    "//hack 1: study for exam?\n",
    "\n",
    "// Function to decide whether to study for an exam\n",
    "function decideToStudy(studyMaterials, quietPlace, feelingTired) {\n",
    "    // Check if study materials are available\n",
    "    if (!studyMaterials) {\n",
    "        print(\"You need to gather your study materials first.\");\n",
    "    } \n",
    "    // Check if there is a quiet place to study\n",
    "    else if (!quietPlace) {\n",
    "        print(\"Find a quiet location to study.\");\n",
    "    } \n",
    "    // Check if you are feeling too tired\n",
    "    else if (feelingTired) {\n",
    "        print(\"You should take a nap or rest first.\");\n",
    "    } \n",
    "    // All conditions are met\n",
    "    else {\n",
    "        print(\"You are ready to study!\");\n",
    "    }\n",
    "}\n",
    "\n",
    "// Example usage\n",
    "decideToStudy(true, true, false);  // Output: You are ready to study!\n",
    "decideToStudy(false, true, false);  // Output: You need to gather your study materials first.\n",
    "decideToStudy(true, false, false);  // Output: Find a quiet location to study.\n",
    "decideToStudy(true, true, true);    // Output: You should take a nap or rest first.\n"
   ]
  },
  {
   "cell_type": "code",
   "execution_count": null,
   "metadata": {
    "vscode": {
     "languageId": "javascript"
    }
   },
   "outputs": [],
   "source": [
    "//hack 2: bake a cake?\n",
    "\n",
    "function canBakeCake(ingredients, ovenWorking, availableTime) {\n",
    "    let missingIngredients = [];\n",
    "    if (!ingredients.flour) { //check if have flour\n",
    "        missingIngredients.push(\"flour\");\n",
    "    }\n",
    "    if (!ingredients.eggs) { //check if have eggs\n",
    "        missingIngredients.push(\"eggs\");\n",
    "    }\n",
    "    if (!ingredients.sugar) { //check if have sugar\n",
    "        missingIngredients.push(\"sugar\");\n",
    "    }\n",
    "    if (missingIngredients.length > 0) { //if missing ingredient great than 0 (meaning an ingredient is missing), print missing ingredient\n",
    "        console.log(\"You are missing: \" + missingIngredients.join(\", \") + \".\");\n",
    "    } \n",
    "    else if (!ovenWorking) { //check oven working\n",
    "        console.log(\"You need to fix or replace the oven.\");\n",
    "    } \n",
    "    else if (availableTime < 2) { //check avalibility\n",
    "        console.log(\"You need to find more time.\");\n",
    "    } \n",
    "    else { //if all conditions are met print ready to bake message\n",
    "        console.log(\"You can start baking!\");\n",
    "    }\n",
    "}\n",
    "\n",
    "//example set of ingrediences:\n",
    "let ingredients = {\n",
    "    flour: true,\n",
    "    eggs: true,\n",
    "    sugar: true\n",
    "};\n",
    "\n",
    "canBakeCake(ingredients, true, 2);\n",
    "canBakeCake(ingredients, false, 2);\n",
    "canBakeCake(ingredients, true, 1);\n",
    "canBakeCake({flour: true, eggs: false, sugar: true}, true, 2);\n"
   ]
  },
  {
   "cell_type": "code",
   "execution_count": null,
   "metadata": {
    "vscode": {
     "languageId": "javascript"
    }
   },
   "outputs": [],
   "source": [
    "//hack 3: camping trip?\n",
    "\n",
    "function canGoCamping(weather, tent, foodAndWater) {\n",
    "    if (!weather) { //check if weather is clear, if it is move to next condition, if not print message\n",
    "        console.log(\"It's a bad time for camping.\");\n",
    "    } \n",
    "    else if (!tent) { //check if have tent, if so move to food/ water, if not print message\n",
    "        console.log(\"Go buy or borrow a tent.\");\n",
    "    } \n",
    "    else if (!foodAndWater) { //check food and water, if so all conditions are met and can go camping, if not, print message\n",
    "        console.log(\"You need to pack more food and water.\");\n",
    "    } \n",
    "    else {\n",
    "        console.log(\"You're ready for a camping trip\");\n",
    "    }\n",
    "}\n",
    "\n",
    "let weatherIsClear = true;  \n",
    "let tent = true;\n",
    "let hasEnoughFoodAndWater = true; \n",
    "\n",
    "canGoCamping(weatherIsClear, tent, hasEnoughFoodAndWater); \n",
    "\n",
    "canGoCamping(false, true, true);  \n",
    "canGoCamping(true, false, true); \n",
    "canGoCamping(true, true, false); \n"
   ]
  }
 ],
 "metadata": {
  "kernelspec": {
   "display_name": "Python 3",
   "language": "python",
   "name": "python3"
  },
  "language_info": {
   "codemirror_mode": {
    "name": "ipython",
    "version": 3
   },
   "file_extension": ".py",
   "mimetype": "text/x-python",
   "name": "python",
   "nbconvert_exporter": "python",
   "pygments_lexer": "ipython3",
   "version": "3.10.12"
  }
 },
 "nbformat": 4,
 "nbformat_minor": 2
}
