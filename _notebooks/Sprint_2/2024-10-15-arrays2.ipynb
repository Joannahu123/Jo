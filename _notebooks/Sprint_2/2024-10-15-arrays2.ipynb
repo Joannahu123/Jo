{
 "cells": [
  {
   "cell_type": "markdown",
   "metadata": {},
   "source": [
    "---\n",
    "layout: post\n",
    "title: 3.10B hacks\n",
    "comments: true\n",
    "---"
   ]
  },
  {
   "cell_type": "markdown",
   "metadata": {},
   "source": [
    "### Arrays and Lists!\n",
    "\n",
    "<br>\n",
    "\n",
    "js popcorn hacks: "
   ]
  },
  {
   "cell_type": "code",
   "execution_count": null,
   "metadata": {
    "vscode": {
     "languageId": "javascript"
    }
   },
   "outputs": [],
   "source": [
    "//3.10.1 js popcorn hack 1: reverse an array\n",
    "\n",
    "var names = [\"kushi\", \"nora\", \"maryam\", \"joanna\"];\n",
    "names.reverse();\n",
    "console.log(names); //output: [\"joanna\", \"maryam\", \"nora\", \"kushi\"]"
   ]
  },
  {
   "cell_type": "code",
   "execution_count": null,
   "metadata": {
    "vscode": {
     "languageId": "javascript"
    }
   },
   "outputs": [],
   "source": [
    "//3.10.1 js popcorn hack 2: push and spread operator\n",
    "\n",
    "var fruit = [\"apple\", \"banana\", \"kiwi\"];\n",
    "var moreFruit = [\"mango\", \"pineapple\"];\n",
    "fruit.push(...moreFruit);\n",
    "console.log(fruit); // Output: [\"apple\", \"banana\", \"kiwi\", \"mango\", \"pineapple\"]\n",
    "\n",
    "var moreMoreFruit = [\"orange\", \"dragonfruit\"]\n",
    "fruit.unshift(...moreMoreFruit);\n",
    "console.log(fruit); // output: [\"orange\", \"dragonfruit\", \"apple\", \"banana\", \"kiwi\"]"
   ]
  },
  {
   "cell_type": "code",
   "execution_count": null,
   "metadata": {
    "vscode": {
     "languageId": "javascript"
    }
   },
   "outputs": [],
   "source": [
    "//3.10.1 js popcorn hack 3: filter() method\n",
    "\n",
    "var animals = [\"giraffee\", \"dog\", \"cat\", \"koala\", \"kangaroo\", \"shark\", \"mouse\", \"elephant\"];\n",
    "var longNameCount = animals.filter(animal => animal.length > 4).length; \n",
    "console.log(longNameCount); // Output: [6]"
   ]
  },
  {
   "cell_type": "markdown",
   "metadata": {},
   "source": [
    "<br>\n",
    "js homework hacks:\n",
    "<br>"
   ]
  },
  {
   "cell_type": "code",
   "execution_count": null,
   "metadata": {
    "vscode": {
     "languageId": "javascript"
    }
   },
   "outputs": [],
   "source": [
    "//3.10.4 js homework hacks \n",
    "\n",
    "\n",
    "// Problem #1: Basic Array Creation\n",
    "var silverware = [\"fork\", \"spoon\", \"plate\", \"cup\", \"bowl\", \"knife\"];\n",
    "console.log(silverware);\n",
    "\n",
    "// Reverse bonus\n",
    "silverware.reverse();\n",
    "console.log(\"Reversed silverware:\", silverware);\n",
    "\n",
    "// Problem #2: Accessing Elements\n",
    "var sports = [\"soccer\", \"football\", \"basketball\", \"wrestling\", \"swimming\"];\n",
    "var first = sports[0];  // \"soccer\"\n",
    "var second = sports[3]; // \"wrestling\"\n",
    "console.log(\"First sport:\", first);\n",
    "console.log(\"Second sport:\", second);\n",
    "\n",
    "// Problem #3: Adding and Removing Items\n",
    "var choresList = [\"laundry\", \"dishes\", \"clean room\", \"take out trash\"];\n",
    "console.log(\"Original choresList:\", choresList);\n",
    "\n",
    "// Adding first chore using unshift\n",
    "choresList.unshift(\"wake up\"); \n",
    "console.log(\"After unshift:\", choresList);\n",
    "\n",
    "// Adding last chore using push\n",
    "choresList.push(\"brush teeth\"); \n",
    "console.log(\"After push:\", choresList);\n",
    "\n",
    "// Removing the first chore using shift\n",
    "choresList.shift();\n",
    "console.log(\"After shift:\", choresList);\n",
    "\n",
    "// Removing the last chore using pop\n",
    "choresList.pop();\n",
    "console.log(\"After pop:\", choresList);\n",
    "\n",
    "// Problem #4: Iteration and Conditionals\n",
    "var randomNumbers = [9, 27, 45, 48, 34, 29, 14, 28, 43, 13];\n",
    "\n",
    "// Function to count even numbers \n",
    "function countEvenNumbers(numbers) { \n",
    "    var evenCount = 0; // Initialize a counter for even numbers\n",
    "    \n",
    "    // Iterate through the array\n",
    "    for (var i = 0; i < numbers.length; i++) {\n",
    "        // Check if the number is even\n",
    "        if (numbers[i] % 2 === 0) {\n",
    "            evenCount++; // Increment the counter if even\n",
    "        }\n",
    "    }\n",
    "    \n",
    "    return evenCount; // Return the count of even numbers\n",
    "}\n",
    "\n",
    "var evenCount = countEvenNumbers(randomNumbers);\n",
    "console.log(\"Amount of even numbers: \" + evenCount);\n"
   ]
  },
  {
   "cell_type": "markdown",
   "metadata": {},
   "source": [
    "js output screenshot: <br>\n",
    "<img src=\"{{site.baseurl}}/images/Screenshot 2024-10-15 233246.png\" alt=\"3.10B js output to hacks\">"
   ]
  },
  {
   "cell_type": "markdown",
   "metadata": {},
   "source": [
    "<br>\n",
    "python popcorn hacks: \n",
    "<br>"
   ]
  },
  {
   "cell_type": "code",
   "execution_count": 4,
   "metadata": {},
   "outputs": [
    {
     "name": "stdout",
     "output_type": "stream",
     "text": [
      "original list: [4, 5, 6]\n",
      "new list: [4, 5, 7, 8, 9, 6]\n"
     ]
    }
   ],
   "source": [
    "#3.10.2 python popcorn hack 1: insert method\n",
    "\n",
    "numbers = [ 4, 5, 6]\n",
    "print(\"original list:\", numbers)\n",
    "\n",
    "numbers.insert (-1,9)\n",
    "numbers.insert(-2,8)\n",
    "numbers.insert(-3,7)\n",
    "\n",
    "print(\"new list:\", numbers)"
   ]
  },
  {
   "cell_type": "code",
   "execution_count": 6,
   "metadata": {},
   "outputs": [
    {
     "name": "stdout",
     "output_type": "stream",
     "text": [
      "original numbers: [1, 2, 3]\n",
      "using extend:  [1, 2, 3, 4, 5, 6]\n"
     ]
    }
   ],
   "source": [
    "#3.10.2 python popcorn hack 2: extend\n",
    "\n",
    "numbers = [1, 2, 3]\n",
    "more_numbers = [4, 5, 6]\n",
    "print(\"original numbers:\", numbers)\n",
    "\n",
    "numbers.extend(more_numbers)\n",
    "print(\"using extend: \", numbers)"
   ]
  },
  {
   "cell_type": "code",
   "execution_count": 11,
   "metadata": {},
   "outputs": [
    {
     "name": "stdout",
     "output_type": "stream",
     "text": [
      "original numbers:  [100, 200, 300, 400, 500, 600, 700, 800, 900]\n",
      "after deletion: [100, 300, 500, 700, 800, 900]\n"
     ]
    }
   ],
   "source": [
    "#3.10.2 python popcorn hack 3: removing using del\n",
    "large_numbers = [100, 200, 300, 400, 500, 600, 700, 800, 900]\n",
    "print(\"original numbers: \", large_numbers)\n",
    "\n",
    "del large_numbers[1]\n",
    "del large_numbers[2]\n",
    "del large_numbers[3]\n",
    "\n",
    "print(\"after deletion:\", large_numbers)"
   ]
  },
  {
   "cell_type": "markdown",
   "metadata": {},
   "source": [
    "python homework hacks:"
   ]
  },
  {
   "cell_type": "code",
   "execution_count": 30,
   "metadata": {},
   "outputs": [
    {
     "name": "stdout",
     "output_type": "stream",
     "text": [
      "Original grocery list: ['lettuce', 'bread', 'milk']\n",
      "Alphabetical grocery list: ['bread', 'lettuce', 'milk']\n",
      "original list: [1, 2, 3, 4, 5, 6, 7, 8, 9, 10, 11, 12, 13, 14, 15, 16, 17, 18, 19, 20]\n",
      "even numbers:  [2, 4, 6, 8, 10, 12, 14, 16, 18, 20]\n",
      "student grades:  [85, 58, 72]\n",
      "grades above 60:  [85, 72]\n",
      "original list:  [1, 2, 3, 4, 5, 6, 7, 8, 9, 10]\n",
      "first five:  [1, 2, 3, 4, 5]\n",
      "decending order:  [10, 9, 8, 7, 6, 5, 4, 3, 2, 1]\n",
      "ascending order:  [1, 2, 3, 4, 5, 6, 7, 8, 9, 10]\n"
     ]
    }
   ],
   "source": [
    "#3.10.3 python homework hacks\n",
    "\n",
    "\n",
    "#problem 1: grocery list\n",
    "grocery_list = []\n",
    "items = [\"lettuce\", \"bread\", \"milk\"]\n",
    "\n",
    "# Insert each item into the grocery list individually\n",
    "for item in items:\n",
    "    grocery_list.insert(len(grocery_list), item)\n",
    "print(\"Original grocery list:\", grocery_list)\n",
    "\n",
    "grocery_list.sort() #sort alphabetically\n",
    "print(\"Alphabetical grocery list:\", grocery_list)\n",
    "\n",
    "\n",
    "\n",
    "#problem 2: even numbers\n",
    "integers = [1, 2, 3, 4, 5, 6, 7, 8, 9, 10, 11, 12, 13, 14, 15, 16, 17, 18, 19, 20]\n",
    "print(\"original list:\", integers)\n",
    "\n",
    "even_numbers = [num for num in integers if num % 2 == 0]\n",
    "print(\"even numbers: \", even_numbers)\n",
    "\n",
    "\n",
    "#problem 3: student grades\n",
    "student_grades = []\n",
    "grades = [85, 58, 72]\n",
    "    #print all grades: \n",
    "for item in grades: \n",
    "        student_grades.insert(len(student_grades), item)\n",
    "print(\"student grades: \", student_grades)\n",
    "    #print only grades above 60:\n",
    "passing_grades = [grade for grade in student_grades if grade > 60]\n",
    "print (\"grades above 60: \", passing_grades)\n",
    "\n",
    "\n",
    "#problem 4: list operations\n",
    "numberss = [1,2,3,4,5,6,7,8,9,10]\n",
    "print(\"original list: \", numberss)\n",
    "\n",
    "first_five = numberss[:5]\n",
    "print(\"first five: \", first_five)\n",
    "\n",
    "numberss.sort(reverse = True)\n",
    "print(\"decending order: \", numberss)\n",
    "\n",
    "numberss.sort()\n",
    "print(\"ascending order: \", numberss)\n"
   ]
  }
 ],
 "metadata": {
  "kernelspec": {
   "display_name": "Python 3",
   "language": "python",
   "name": "python3"
  },
  "language_info": {
   "codemirror_mode": {
    "name": "ipython",
    "version": 3
   },
   "file_extension": ".py",
   "mimetype": "text/x-python",
   "name": "python",
   "nbconvert_exporter": "python",
   "pygments_lexer": "ipython3",
   "version": "3.10.12"
  }
 },
 "nbformat": 4,
 "nbformat_minor": 2
}
